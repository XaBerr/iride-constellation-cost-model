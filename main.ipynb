{
 "cells": [
  {
   "cell_type": "markdown",
   "metadata": {},
   "source": [
    "# Cost Estimation For IRIDE Costellation\n",
    "\n",
    "### Imports"
   ]
  },
  {
   "cell_type": "code",
   "execution_count": 1,
   "metadata": {},
   "outputs": [],
   "source": [
    "import pandas as pd\n",
    "# pd.options.display.max_columns = 200\n",
    "pd.set_option('expand_frame_repr', False)"
   ]
  },
  {
   "cell_type": "markdown",
   "metadata": {},
   "source": [
    "### Data initialization"
   ]
  },
  {
   "cell_type": "code",
   "execution_count": 2,
   "metadata": {},
   "outputs": [
    {
     "name": "stdout",
     "output_type": "stream",
     "text": [
      "         Firm  Platform Payload  B1 # Sat  B1 Cost (mil €)  B2 # Sat  B2 Cost (mil €)  Cost per Satellite  Variable cost B1  Fix cost B1         Origin\n",
      "0    Argotech      HAWK      HR      10.0             34.0      15.0             29.0                1.93             19.33        14.67  Their Website\n",
      "1  OHB Italia   Eagle 2      HR      12.0             34.0      12.0             29.0                2.42             29.00         5.00  Their Website\n",
      "2         TAS    NIMBUS     VHR       1.0             30.0       1.0             19.0               19.00             19.00        11.00  Their Website\n",
      "3         TAS    NIMBUS     SAR       6.0            112.0       4.0             75.0               16.83            101.00        11.00  Their Website\n",
      "4     D-Orbit       NOX     SAR       1.0             26.0       1.0             24.0               24.00             24.00         2.00  Their Website\n",
      "5       SITAL  Platinum     HYP       4.0             90.0       2.0             40.0               20.00             80.00        10.00  Their Website\n",
      "6      TOTALS       NaN     NaN      34.0            326.0      35.0            216.0                 NaN            272.33        53.67    Slide Iride\n",
      "7    AVERAGES       NaN     NaN       NaN              NaN       NaN              NaN               14.03               NaN         8.94            NaN\n",
      "             Type  Date  Recurring (years)        Firm                                        Description  Cost (mil €)            Origin\n",
      "0   Non-recurring  2023                  0         NaN                                        B1 Fix Cost         53.67               NaN\n",
      "1       Recurring  2023                  6         NaN                                        B1 Var Cost        272.33               NaN\n",
      "2       Recurring  2024                  6         NaN                                            B2 Cost        216.00               NaN\n",
      "3   Non-recurring  2023                  0    Exprivia                        Payload Data Ground Segment         25.00     Their Website\n",
      "4   Non-recurring  2023                  0  Telespazio                          Flight Operations Segment        100.00  NPV Costellation\n",
      "5   Non-recurring  2023                  0      e-GEOS                         Development of Marketplace          1.00       Same as CDS\n",
      "6       Recurring  2024                  6        AVIO                                           Lunch B1        212.87  NPV Costellation\n",
      "7       Recurring  2025                  6        AVIO                                           Lunch B2        219.13  NPV Costellation\n",
      "8       Recurring  2025                  1           ?           Ground Facilities Maintenance and Upkeep         45.00  NPV Costellation\n",
      "9       Recurring  2025                  1           ?                           Constellation Operations        100.00  NPV Costellation\n",
      "10      Recurring  2025                  1           ?         Program Management and Systems Engineering         14.50    Copernicus CS3\n",
      "11  Non-recurring  2023                  0           ?  Software Infrastructure for the Climate Data S...          1.00    Copernicus CS3\n",
      "12      Recurring  2025                  1           ?  Provision of Cloud Hosting Services for Climat...          0.65    Copernicus CS3\n"
     ]
    }
   ],
   "source": [
    "df_costs_sat = pd.read_csv('costs-satellites.csv')\n",
    "df_costs_oth = pd.read_csv('costs-others.csv')\n",
    "\n",
    "print(df_costs_sat)\n",
    "print(df_costs_oth)"
   ]
  },
  {
   "cell_type": "markdown",
   "metadata": {},
   "source": []
  }
 ],
 "metadata": {
  "kernelspec": {
   "display_name": "Python 3",
   "language": "python",
   "name": "python3"
  },
  "language_info": {
   "codemirror_mode": {
    "name": "ipython",
    "version": 3
   },
   "file_extension": ".py",
   "mimetype": "text/x-python",
   "name": "python",
   "nbconvert_exporter": "python",
   "pygments_lexer": "ipython3",
   "version": "3.11.9"
  }
 },
 "nbformat": 4,
 "nbformat_minor": 2
}
